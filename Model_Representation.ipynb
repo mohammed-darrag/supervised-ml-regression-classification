import numpy as np
import matplotlib.pyplot as plt

# optional: style file if available
try:
    plt.style.use('./deeplearning.mplstyle')
except Exception:
    pass

# data (size in 1000 sqft, price in $1000s)
x_train = np.array([1.0, 2.0])
y_train = np.array([300.0, 500.0])

print(f"x_train = {x_train}")
print(f"y_train = {y_train}")
print(f"x_train.shape: {x_train.shape}")
m = x_train.shape[0]
print(f"Number of training examples is: {m}")

# inspect one example
i = 0  # set to 1 to view the second point
x_i, y_i = x_train[i], y_train[i]
print(f"(x^({i}), y^({i})) = ({x_i}, {y_i})")

# scatter of data
plt.figure()
plt.scatter(x_train, y_train, marker='x', c='r')
plt.title("Housing Prices")
plt.ylabel('Price (in 1000s of dollars)')
plt.xlabel('Size (1000 sqft)')
plt.show()

# simple linear model: f_wb = w*x + b
w = 100
b = 100
print(f"w: {w}, b: {b}")

def compute_model_output(x, w, b):
    """Compute predictions for a linear model: f_wb = w*x + b"""
    # vectorized 
    return w * x + b

tmp_f_wb = compute_model_output(x_train, w, b)

# plot model line vs data
plt.figure()
plt.plot(x_train, tmp_f_wb, c='b', label='Our Prediction')
plt.scatter(x_train, y_train, marker='x', c='r', label='Actual Values')
plt.title("Housing Prices")
plt.ylabel('Price (in 1000s of dollars)')
plt.xlabel('Size (1000 sqft)')
plt.legend()
plt.show()

# try a different (w,b) and predict 1200 sqft
w = 200
b = 100
x_i = 1.2  # 1200 sqft because x is in 1000 sqft
cost_1200sqft = w * x_i + b
print(f"${cost_1200sqft:.0f} thousand dollars")
